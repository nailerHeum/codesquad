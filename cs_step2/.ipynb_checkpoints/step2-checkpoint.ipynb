{
 "cells": [
  {
   "cell_type": "code",
   "execution_count": 5,
   "metadata": {},
   "outputs": [
    {
     "name": "stdout",
     "output_type": "stream",
     "text": [
      "TEXT index 0  0101010101010101\n",
      "TEXT index 1  0101011010110101\n",
      "HEAP index 0  0001101010010101\n",
      "range 밖을 요청  Error! Out of range exception\n",
      "\n",
      "TEXT에 index 1까지 사용된 상태\n",
      "0이 리턴되면 locate 성공 >>  0\n",
      "TEXT index 2 0101010101010101\n",
      "TEXT index 3 0101011010110101\n",
      "TEXT index 4 0001101010010101\n",
      "\n",
      "fetch test\n",
      "TEXT index 3 0001101010010101\n",
      "\n",
      "load test\n",
      "HEAP index 0x10000 0001101010010101\n",
      "\n",
      "store test\n",
      "0이 리턴되면 store 성공 >>  0\n",
      "HEAP index 0x10001 1111111111111111\n"
     ]
    }
   ],
   "source": [
    "class Memory:\n",
    "    PROGRAM_TEXT = [None]*2**16 #0x0000 부터 0xFFFF 까지\n",
    "    PROGRAM_HEAP = [None]*2**16 #0x10000부터 0x1FFFF 까지\n",
    "    \n",
    "    def peek(self, address):\n",
    "        if 0<=address<=0xFFFF:\n",
    "            return self.PROGRAM_TEXT[address]\n",
    "        elif 0x10000<=address<=0x1FFFF:\n",
    "            return self.PROGRAM_HEAP[address-0x10000]\n",
    "        else:\n",
    "            return \"Error! Out of range exception\"\n",
    "        return \"Unexpected ERROR!!!\"\n",
    "\n",
    "    def locate(self, program):\n",
    "        start_location = 0\n",
    "        for i in range(len(self.PROGRAM_TEXT)):\n",
    "            if self.PROGRAM_TEXT[i] == None:\n",
    "                start_location = i\n",
    "                break\n",
    "        if start_location == 0 and self.PROGRAM_TEXT[0] != None:\n",
    "            return \"Error! TEXT OVERFLOW!!!\"\n",
    "        for i in range(len(program)):\n",
    "            self.PROGRAM_TEXT[start_location + i] = program[i]\n",
    "        return 0    # locate operated successfully\n",
    "\n",
    "    def fetch(self, program_count):\n",
    "        if 0<=program_count + 1<=0xFFFF:   # 1번째 위치한건 index 0에 있으므로 고려할 필요없으면 + 1 지우자\n",
    "            return self.PROGRAM_TEXT[program_count + 1]\n",
    "        else:\n",
    "            return 'Error! Out of range exception'\n",
    "        return 'Unexpected ERROR!!!'\n",
    "\n",
    "    def load(self, address):\n",
    "        if 0x10000<=address<=0x1FFFF:\n",
    "            return self.PROGRAM_HEAP[address-0x10000]\n",
    "        else:\n",
    "            return 'Error! Out of range exception'\n",
    "        return 'Unexpected ERROR!!!'\n",
    "    def store(self, address, data):\n",
    "        if 0x10000<=address<=0x1FFFF:\n",
    "            self.PROGRAM_HEAP[address-0x10000] = data\n",
    "            return 0\n",
    "        else:\n",
    "            return 'Error! Out of range exception'\n",
    "        return 'Unexpected ERROR!!!'\n",
    "\n",
    "memory = Memory()\n",
    "# test datas... START\n",
    "memory.PROGRAM_TEXT[0] = '0101010101010101'\n",
    "memory.PROGRAM_TEXT[1] = '0101011010110101'\n",
    "memory.PROGRAM_HEAP[0] = '0001101010010101'\n",
    "\n",
    "# test datas... END\n",
    "\n",
    "\n",
    "\n",
    "# peek test\n",
    "print('TEXT index 0 ', memory.peek(0))\n",
    "print('TEXT index 1 ', memory.peek(1))\n",
    "print('HEAP index 0 ', memory.peek(0x10000))\n",
    "print('range 밖을 요청 ', memory.peek(11241241252314))\n",
    "\n",
    "# locate test\n",
    "print('\\nTEXT에 index 1까지 사용된 상태\\n0이 리턴되면 locate 성공 >> ', memory.locate(['0101010101010101', '0101011010110101', '0001101010010101']))\n",
    "print('TEXT index 2', memory.peek(2))\n",
    "print('TEXT index 3', memory.peek(3))\n",
    "print('TEXT index 4', memory.peek(4))\n",
    "\n",
    "# fetch test\n",
    "print('\\nfetch test')\n",
    "print('TEXT index 3', memory.fetch(3))\n",
    "\n",
    "# load test\n",
    "print('\\nload test')\n",
    "print('HEAP index 0x10000', memory.load(0x10000 + 0))\n",
    "\n",
    "#store test\n",
    "print('\\nstore test')\n",
    "print('0이 리턴되면 store 성공 >> ', memory.store(0x10001, '1111111111111111'))\n",
    "print('HEAP index 0x10001', memory.peek(0x10001))\n",
    "\n",
    "\n",
    "\n",
    "\n",
    "\n"
   ]
  },
  {
   "cell_type": "code",
   "execution_count": 63,
   "metadata": {},
   "outputs": [
    {
     "data": {
      "text/plain": [
       "function"
      ]
     },
     "execution_count": 63,
     "metadata": {},
     "output_type": "execute_result"
    }
   ],
   "source": []
  },
  {
   "cell_type": "code",
   "execution_count": null,
   "metadata": {},
   "outputs": [],
   "source": []
  }
 ],
 "metadata": {
  "kernelspec": {
   "display_name": "Python 3",
   "language": "python",
   "name": "python3"
  },
  "language_info": {
   "codemirror_mode": {
    "name": "ipython",
    "version": 3
   },
   "file_extension": ".py",
   "mimetype": "text/x-python",
   "name": "python",
   "nbconvert_exporter": "python",
   "pygments_lexer": "ipython3",
   "version": "3.7.1"
  }
 },
 "nbformat": 4,
 "nbformat_minor": 2
}
